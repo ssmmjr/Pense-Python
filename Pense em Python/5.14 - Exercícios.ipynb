{
 "cells": [
  {
   "cell_type": "markdown",
   "metadata": {
    "heading_collapsed": true
   },
   "source": [
    "# Exercício 5.1"
   ]
  },
  {
   "cell_type": "markdown",
   "metadata": {
    "hidden": true
   },
   "source": [
    "O módulo time fornece uma função também chamada time, que devolve a Hora Média de Grennwich na \"época\", que é um momento arbitrário usado como ponto de referência. Em sistemas UNIX, a época é primeiro de janeiro de 1970. <br> \n",
    "Escreva um script que leia a hora atual e a converta em um tempo em horas, minutos e segundos, mais o número de dias desde época."
   ]
  },
  {
   "cell_type": "code",
   "execution_count": 26,
   "metadata": {
    "ExecuteTime": {
     "end_time": "2021-02-17T22:34:37.670324Z",
     "start_time": "2021-02-17T22:34:37.659722Z"
    },
    "hidden": true
   },
   "outputs": [
    {
     "name": "stdout",
     "output_type": "stream",
     "text": [
      "Um minuto tem 60 segundos.\n",
      "Uma hora tem 3600 segundos.\n",
      "Um dia tem 86400 segundos.\n",
      "Desde a época temos 18675 dias, 22 horas, 34 minutos e 37.7 segundos.\n"
     ]
    }
   ],
   "source": [
    "import time\n",
    "epoca = time.time()\n",
    "minuto = 60\n",
    "print(f'Um minuto tem {minuto} segundos.')\n",
    "hora = minuto *60\n",
    "print(f'Uma hora tem {hora} segundos.')\n",
    "dia = 24 * hora\n",
    "print(f'Um dia tem {dia} segundos.')\n",
    "dias = epoca // dia\n",
    "horas = (epoca % dia) // 3600\n",
    "minutos = ((epoca % dia) % 3600) // 60\n",
    "segundos = ((epoca % dia) % 3600) % 60\n",
    "print(f'Desde a época temos {dias:.0f} dias, {horas:.0f} horas, {minutos:.0f} minutos e {segundos:.1f} segundos.')"
   ]
  },
  {
   "cell_type": "markdown",
   "metadata": {
    "heading_collapsed": true
   },
   "source": [
    "# Exercício 5.2"
   ]
  },
  {
   "cell_type": "markdown",
   "metadata": {
    "hidden": true
   },
   "source": [
    "O último teorema de Fermat diz que não existem números inteiros (a, b e c) tais que a elevado a n, somado com b elevado a n, seja igual a igual a c elevado a n para quaisquer valores de n maiores que 2. <br>\n",
    "a) Escreva uma função chamada check_fermat que receba quatro parâmetros - a, b, c e n - e verifique se o teorema de Fermat se mantém."
   ]
  },
  {
   "cell_type": "code",
   "execution_count": 29,
   "metadata": {
    "ExecuteTime": {
     "end_time": "2021-02-17T22:50:56.529008Z",
     "start_time": "2021-02-17T22:50:56.522277Z"
    },
    "hidden": true
   },
   "outputs": [
    {
     "name": "stdout",
     "output_type": "stream",
     "text": [
      "No, that's dosen't work.\n"
     ]
    }
   ],
   "source": [
    "def check_fermat(a, b, c, n):\n",
    "    if (a**n + b**n == c**n):\n",
    "        print('Holy smokes, Fermat was wrong.')\n",
    "    elif (b**n + c**n == a**n):\n",
    "        print('Holy smokes, Fermat was wrong.')\n",
    "    elif (a**n + c**n == b**n):\n",
    "        print('Holy smokes, Fermat was wrong.')\n",
    "    else:\n",
    "        print(\"No, that's dosen't work.\")\n",
    "        \n",
    "        \n",
    "check_fermat(16, 9, 25, 2)"
   ]
  },
  {
   "cell_type": "markdown",
   "metadata": {
    "hidden": true
   },
   "source": [
    "b) Escreva uma função que peça ao usuário para digitar valores a, b, c e n, os converta em inteiro. <br> Use check_fermat para verificar se violam o teorema de Fermat."
   ]
  },
  {
   "cell_type": "code",
   "execution_count": 31,
   "metadata": {
    "ExecuteTime": {
     "end_time": "2021-02-17T23:01:03.034099Z",
     "start_time": "2021-02-17T23:00:55.231384Z"
    },
    "hidden": true
   },
   "outputs": [
    {
     "name": "stdout",
     "output_type": "stream",
     "text": [
      "Digite o primeiro número: 5\n",
      "Digite o segundo número: 6\n",
      "Digite o terceiro número: 7\n",
      "Digite o expoente: 3\n",
      "No, that's dosen't work.\n"
     ]
    }
   ],
   "source": [
    "x = int(input('Digite o primeiro número: '))\n",
    "y = int(input('Digite o segundo número: '))\n",
    "z = int(input('Digite o terceiro número: '))\n",
    "e = int(input('Digite o expoente: '))\n",
    "check_fermat(x, y, z, e)"
   ]
  }
 ],
 "metadata": {
  "kernelspec": {
   "display_name": "Python 3",
   "language": "python",
   "name": "python3"
  },
  "language_info": {
   "codemirror_mode": {
    "name": "ipython",
    "version": 3
   },
   "file_extension": ".py",
   "mimetype": "text/x-python",
   "name": "python",
   "nbconvert_exporter": "python",
   "pygments_lexer": "ipython3",
   "version": "3.8.5"
  },
  "varInspector": {
   "cols": {
    "lenName": 16,
    "lenType": 16,
    "lenVar": 40
   },
   "kernels_config": {
    "python": {
     "delete_cmd_postfix": "",
     "delete_cmd_prefix": "del ",
     "library": "var_list.py",
     "varRefreshCmd": "print(var_dic_list())"
    },
    "r": {
     "delete_cmd_postfix": ") ",
     "delete_cmd_prefix": "rm(",
     "library": "var_list.r",
     "varRefreshCmd": "cat(var_dic_list()) "
    }
   },
   "types_to_exclude": [
    "module",
    "function",
    "builtin_function_or_method",
    "instance",
    "_Feature"
   ],
   "window_display": false
  }
 },
 "nbformat": 4,
 "nbformat_minor": 4
}
