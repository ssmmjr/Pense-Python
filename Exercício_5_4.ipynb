{
  "nbformat": 4,
  "nbformat_minor": 0,
  "metadata": {
    "colab": {
      "name": "Exercício 5-4.ipynb",
      "provenance": [],
      "authorship_tag": "ABX9TyPuaNvuGEfgwGxRqWmsGs3l",
      "include_colab_link": true
    },
    "kernelspec": {
      "name": "python3",
      "display_name": "Python 3"
    }
  },
  "cells": [
    {
      "cell_type": "markdown",
      "metadata": {
        "id": "view-in-github",
        "colab_type": "text"
      },
      "source": [
        "<a href=\"https://colab.research.google.com/github/ssmmjr/Pense-Python/blob/main/Exerc%C3%ADcio_5_4.ipynb\" target=\"_parent\"><img src=\"https://colab.research.google.com/assets/colab-badge.svg\" alt=\"Open In Colab\"/></a>"
      ]
    },
    {
      "cell_type": "code",
      "metadata": {
        "id": "2uxgChevSTwQ"
      },
      "source": [
        "def recurse(n, s):\n",
        "  if n == 0:\n",
        "    print(s)\n",
        "  else:\n",
        "    recurse(n-1, n+s)"
      ],
      "execution_count": 1,
      "outputs": []
    },
    {
      "cell_type": "code",
      "metadata": {
        "colab": {
          "base_uri": "https://localhost:8080/"
        },
        "id": "9axCYOP-TJWg",
        "outputId": "8c32d74a-10fa-453c-b04e-af71e55697a3"
      },
      "source": [
        "recurse(3, 0)"
      ],
      "execution_count": 2,
      "outputs": [
        {
          "output_type": "stream",
          "text": [
            "6\n"
          ],
          "name": "stdout"
        }
      ]
    }
  ]
}